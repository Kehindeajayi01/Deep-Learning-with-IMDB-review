{
  "nbformat": 4,
  "nbformat_minor": 0,
  "metadata": {
    "colab": {
      "name": "ClassifyingMovieReview.ipynb",
      "provenance": [],
      "collapsed_sections": []
    },
    "kernelspec": {
      "name": "python3",
      "display_name": "Python 3"
    }
  },
  "cells": [
    {
      "cell_type": "markdown",
      "metadata": {
        "id": "ekv28bCk7ng8",
        "colab_type": "text"
      },
      "source": [
        "## Obtain the IMDB Review data"
      ]
    },
    {
      "cell_type": "code",
      "metadata": {
        "id": "FmNc4CbX5Rpk",
        "colab_type": "code",
        "outputId": "17079f41-e794-41bd-b6a0-27d488257543",
        "colab": {
          "base_uri": "https://localhost:8080/",
          "height": 116
        }
      },
      "source": [
        "from tensorflow.keras.datasets import imdb\n",
        "(train_data, train_labels), (test_data, test_labels) = imdb.load_data(num_words = 10000)\n",
        "train_data[0][:10]"
      ],
      "execution_count": 1,
      "outputs": [
        {
          "output_type": "display_data",
          "data": {
            "text/html": [
              "<p style=\"color: red;\">\n",
              "The default version of TensorFlow in Colab will soon switch to TensorFlow 2.x.<br>\n",
              "We recommend you <a href=\"https://www.tensorflow.org/guide/migrate\" target=\"_blank\">upgrade</a> now \n",
              "or ensure your notebook will continue to use TensorFlow 1.x via the <code>%tensorflow_version 1.x</code> magic:\n",
              "<a href=\"https://colab.research.google.com/notebooks/tensorflow_version.ipynb\" target=\"_blank\">more info</a>.</p>\n"
            ],
            "text/plain": [
              "<IPython.core.display.HTML object>"
            ]
          },
          "metadata": {
            "tags": []
          }
        },
        {
          "output_type": "stream",
          "text": [
            "Downloading data from https://storage.googleapis.com/tensorflow/tf-keras-datasets/imdb.npz\n",
            "17465344/17464789 [==============================] - 0s 0us/step\n"
          ],
          "name": "stdout"
        },
        {
          "output_type": "execute_result",
          "data": {
            "text/plain": [
              "[1, 14, 22, 16, 43, 530, 973, 1622, 1385, 65]"
            ]
          },
          "metadata": {
            "tags": []
          },
          "execution_count": 1
        }
      ]
    },
    {
      "cell_type": "markdown",
      "metadata": {
        "id": "EtEl8vxu70y8",
        "colab_type": "text"
      },
      "source": [
        "## Explore the data"
      ]
    },
    {
      "cell_type": "code",
      "metadata": {
        "id": "5axDwCe27xUS",
        "colab_type": "code",
        "outputId": "18784520-f290-46fe-de2c-668bb31f87b5",
        "colab": {
          "base_uri": "https://localhost:8080/",
          "height": 52
        }
      },
      "source": [
        "print(\"Shape of the training data: {}\".format(train_data.shape))\n",
        "print(\"Shape of the testing data: {}\".format(test_data.shape))\n"
      ],
      "execution_count": 2,
      "outputs": [
        {
          "output_type": "stream",
          "text": [
            "Shape of the training data: (25000,)\n",
            "Shape of the testing data: (25000,)\n"
          ],
          "name": "stdout"
        }
      ]
    },
    {
      "cell_type": "markdown",
      "metadata": {
        "id": "qfl5ql758sAv",
        "colab_type": "text"
      },
      "source": [
        "## Description of the data\n",
        "* The train_data and test_data is a series of reviews; each review is a list of word indices. train_labels and test_labels are list of 0s and 1s where 0 stands for negative and 1 stands for positive"
      ]
    },
    {
      "cell_type": "code",
      "metadata": {
        "id": "5-LbA1KM8GyW",
        "colab_type": "code",
        "outputId": "d95d7ff3-b78c-426e-f56f-dae6aece26ac",
        "colab": {
          "base_uri": "https://localhost:8080/",
          "height": 52
        }
      },
      "source": [
        "print(\"First review in training data:{}\".format(train_data[0][:10]))\n",
        "print(train_labels[0])"
      ],
      "execution_count": 3,
      "outputs": [
        {
          "output_type": "stream",
          "text": [
            "First review in training data:[1, 14, 22, 16, 43, 530, 973, 1622, 1385, 65]\n",
            "1\n"
          ],
          "name": "stdout"
        }
      ]
    },
    {
      "cell_type": "markdown",
      "metadata": {
        "id": "_QtRDFiQ_9Ad",
        "colab_type": "text"
      },
      "source": [
        "## Decoding the first review from integers to words"
      ]
    },
    {
      "cell_type": "code",
      "metadata": {
        "id": "Pt-OjU6h9iOn",
        "colab_type": "code",
        "outputId": "b72528e7-eaf1-401a-e981-f56f005d480d",
        "colab": {
          "base_uri": "https://localhost:8080/",
          "height": 90
        }
      },
      "source": [
        "word_index = imdb.get_word_index()\n",
        "reverse_word_index = dict(\n",
        "    [(value, key) for (key, value) in word_index.items()])\n",
        "decode_review = ' '.join(\n",
        "    [reverse_word_index.get(i-3, '?') for i in train_data[0]])\n",
        "decode_review"
      ],
      "execution_count": 4,
      "outputs": [
        {
          "output_type": "stream",
          "text": [
            "Downloading data from https://storage.googleapis.com/tensorflow/tf-keras-datasets/imdb_word_index.json\n",
            "1646592/1641221 [==============================] - 0s 0us/step\n"
          ],
          "name": "stdout"
        },
        {
          "output_type": "execute_result",
          "data": {
            "text/plain": [
              "\"? this film was just brilliant casting location scenery story direction everyone's really suited the part they played and you could just imagine being there robert ? is an amazing actor and now the same being director ? father came from the same scottish island as myself so i loved the fact there was a real connection with this film the witty remarks throughout the film were great it was just brilliant so much that i bought the film as soon as it was released for ? and would recommend it to everyone to watch and the fly fishing was amazing really cried at the end it was so sad and you know what they say if you cry at a film it must have been good and this definitely was also ? to the two little boy's that played the ? of norman and paul they were just brilliant children are often left out of the ? list i think because the stars that play them all grown up are such a big profile for the whole film but these children are amazing and should be praised for what they have done don't you think the whole story was so lovely because it was true and was someone's life after all that was shared with us all\""
            ]
          },
          "metadata": {
            "tags": []
          },
          "execution_count": 4
        }
      ]
    },
    {
      "cell_type": "markdown",
      "metadata": {
        "id": "fOECRPS0AOz0",
        "colab_type": "text"
      },
      "source": [
        "## Preparing the data\n",
        "* You can't feed list of integers into a neural network. You have to turn your list into tensors. One way to do that is to encode the integer sequences into a binary matrix"
      ]
    },
    {
      "cell_type": "code",
      "metadata": {
        "id": "cpLem11H_cMK",
        "colab_type": "code",
        "colab": {}
      },
      "source": [
        "import numpy as np\n",
        "\n",
        "def vectorize_sequences(sequences, dimension = 10000):\n",
        "  results = np.zeros((len(sequences), dimension))\n",
        "  for i, sequence in enumerate(sequences):\n",
        "    results[i, sequence] = 1\n",
        "  return results\n",
        "\n",
        "x_train = vectorize_sequences(train_data)\n",
        "x_test = vectorize_sequences(test_data)"
      ],
      "execution_count": 0,
      "outputs": []
    },
    {
      "cell_type": "markdown",
      "metadata": {
        "id": "237QKjwJAMs1",
        "colab_type": "text"
      },
      "source": [
        ""
      ]
    },
    {
      "cell_type": "code",
      "metadata": {
        "id": "LuowKSGRJ3CW",
        "colab_type": "code",
        "outputId": "8b99ed60-c1af-4b99-fa4f-97cb7cf4737e",
        "colab": {
          "base_uri": "https://localhost:8080/",
          "height": 34
        }
      },
      "source": [
        "x_train[0], train_labels"
      ],
      "execution_count": 6,
      "outputs": [
        {
          "output_type": "execute_result",
          "data": {
            "text/plain": [
              "(array([0., 1., 1., ..., 0., 0., 0.]), array([1, 0, 0, ..., 0, 1, 0]))"
            ]
          },
          "metadata": {
            "tags": []
          },
          "execution_count": 6
        }
      ]
    },
    {
      "cell_type": "markdown",
      "metadata": {
        "id": "Jt47kVYNLEnV",
        "colab_type": "text"
      },
      "source": [
        "## Vectorize the labels"
      ]
    },
    {
      "cell_type": "code",
      "metadata": {
        "id": "dydy5swNJ6Nd",
        "colab_type": "code",
        "colab": {}
      },
      "source": [
        "y_train = np.asarray(train_labels).astype('float32')\n",
        "y_test = np.asarray(test_labels).astype('float32')"
      ],
      "execution_count": 0,
      "outputs": []
    },
    {
      "cell_type": "code",
      "metadata": {
        "id": "ZUnalukDLdWg",
        "colab_type": "code",
        "colab": {
          "base_uri": "https://localhost:8080/",
          "height": 34
        },
        "outputId": "6f149ea0-2645-45ce-f4e8-5b68b53f0a7b"
      },
      "source": [
        "y_train"
      ],
      "execution_count": 8,
      "outputs": [
        {
          "output_type": "execute_result",
          "data": {
            "text/plain": [
              "array([1., 0., 0., ..., 0., 1., 0.], dtype=float32)"
            ]
          },
          "metadata": {
            "tags": []
          },
          "execution_count": 8
        }
      ]
    },
    {
      "cell_type": "code",
      "metadata": {
        "id": "JBqflXNoeITy",
        "colab_type": "code",
        "colab": {}
      },
      "source": [
        ""
      ],
      "execution_count": 0,
      "outputs": []
    },
    {
      "cell_type": "markdown",
      "metadata": {
        "id": "-1ppM729h5gi",
        "colab_type": "text"
      },
      "source": [
        "## Build your architecture\n",
        "* This is where we specify the layers of the network.\n",
        "* The number of hidden units within each layer and the activation function"
      ]
    },
    {
      "cell_type": "code",
      "metadata": {
        "id": "Mxj2MlRXiQyg",
        "colab_type": "code",
        "colab": {}
      },
      "source": [
        "from tensorflow.keras.models import Sequential\n",
        "from tensorflow.keras.layers import Dense\n",
        "\n",
        "model = Sequential()\n",
        "model.add(Dense(16, activation = 'relu', input_shape = (10000,)))\n",
        "model.add(Dense(16, activation = 'relu'))\n",
        "model.add(Dense(1, activation = 'sigmoid'))"
      ],
      "execution_count": 0,
      "outputs": []
    },
    {
      "cell_type": "markdown",
      "metadata": {
        "id": "flef4XGEls-r",
        "colab_type": "text"
      },
      "source": [
        "## Compiling the model\n",
        "* This is where we specify the optimizer (how the network will update the weight)\n",
        "* The loss function (a measure of the performance of the network)\n",
        "* An accuracy (metric to monitor)"
      ]
    },
    {
      "cell_type": "code",
      "metadata": {
        "id": "FMBDQOqejo92",
        "colab_type": "code",
        "colab": {}
      },
      "source": [
        "model.compile(optimizer = 'rmsprop',\n",
        "              loss = 'binary_crossentropy',\n",
        "              metrics = ['accuracy'])"
      ],
      "execution_count": 0,
      "outputs": []
    },
    {
      "cell_type": "markdown",
      "metadata": {
        "id": "ex4ogI_GpeGL",
        "colab_type": "text"
      },
      "source": [
        "## Validating your approach\n",
        "* We will set apart 10000 samples from the training data to validate our model so that we can have an idea how our model will perform on new unseen data."
      ]
    },
    {
      "cell_type": "code",
      "metadata": {
        "id": "rJL1cx7qmmXH",
        "colab_type": "code",
        "colab": {}
      },
      "source": [
        "x_val = x_train[:10000]\n",
        "partial_x_train = x_train[10000:]\n",
        "\n",
        "y_val = y_train[:10000]\n",
        "partial_y_train = y_train[10000:]"
      ],
      "execution_count": 0,
      "outputs": []
    },
    {
      "cell_type": "code",
      "metadata": {
        "id": "H9V4si6brHW7",
        "colab_type": "code",
        "colab": {}
      },
      "source": [
        ""
      ],
      "execution_count": 0,
      "outputs": []
    },
    {
      "cell_type": "markdown",
      "metadata": {
        "id": "1xexyWdSrKI6",
        "colab_type": "text"
      },
      "source": [
        "## Training the model\n",
        "* We fit the model on the partial training set and validate on the validation set.\n",
        "* We specify the epochs(the number of iteration on all training samples)\n",
        "* We also specify the batch_size (a subset of the training samples to train at a single instance)"
      ]
    },
    {
      "cell_type": "code",
      "metadata": {
        "id": "B_JIrEyvsXON",
        "colab_type": "code",
        "colab": {
          "base_uri": "https://localhost:8080/",
          "height": 738
        },
        "outputId": "f23ff83d-621f-4780-ab98-008198424aa6"
      },
      "source": [
        "history = model.fit(partial_x_train, partial_y_train, epochs = 20, batch_size = 512,\n",
        "          validation_data = (x_val, y_val))"
      ],
      "execution_count": 20,
      "outputs": [
        {
          "output_type": "stream",
          "text": [
            "Train on 15000 samples, validate on 10000 samples\n",
            "Epoch 1/20\n",
            "15000/15000 [==============================] - 8s 543us/sample - loss: 0.5098 - acc: 0.7880 - val_loss: 0.3854 - val_acc: 0.8689\n",
            "Epoch 2/20\n",
            "15000/15000 [==============================] - 2s 101us/sample - loss: 0.3015 - acc: 0.9027 - val_loss: 0.2967 - val_acc: 0.8893\n",
            "Epoch 3/20\n",
            "15000/15000 [==============================] - 2s 101us/sample - loss: 0.2174 - acc: 0.9265 - val_loss: 0.2759 - val_acc: 0.8922\n",
            "Epoch 4/20\n",
            "15000/15000 [==============================] - 2s 101us/sample - loss: 0.1745 - acc: 0.9417 - val_loss: 0.2760 - val_acc: 0.8895\n",
            "Epoch 5/20\n",
            "15000/15000 [==============================] - 2s 100us/sample - loss: 0.1393 - acc: 0.9550 - val_loss: 0.3323 - val_acc: 0.8717\n",
            "Epoch 6/20\n",
            "15000/15000 [==============================] - 1s 100us/sample - loss: 0.1165 - acc: 0.9643 - val_loss: 0.2938 - val_acc: 0.8860\n",
            "Epoch 7/20\n",
            "15000/15000 [==============================] - 2s 100us/sample - loss: 0.0984 - acc: 0.9705 - val_loss: 0.3170 - val_acc: 0.8805\n",
            "Epoch 8/20\n",
            "15000/15000 [==============================] - 1s 100us/sample - loss: 0.0793 - acc: 0.9793 - val_loss: 0.3305 - val_acc: 0.8794\n",
            "Epoch 9/20\n",
            "15000/15000 [==============================] - 1s 99us/sample - loss: 0.0666 - acc: 0.9831 - val_loss: 0.3594 - val_acc: 0.8796\n",
            "Epoch 10/20\n",
            "15000/15000 [==============================] - 1s 98us/sample - loss: 0.0557 - acc: 0.9855 - val_loss: 0.3786 - val_acc: 0.8758\n",
            "Epoch 11/20\n",
            "15000/15000 [==============================] - 2s 100us/sample - loss: 0.0420 - acc: 0.9914 - val_loss: 0.4731 - val_acc: 0.8614\n",
            "Epoch 12/20\n",
            "15000/15000 [==============================] - 2s 100us/sample - loss: 0.0360 - acc: 0.9917 - val_loss: 0.4340 - val_acc: 0.8728\n",
            "Epoch 13/20\n",
            "15000/15000 [==============================] - 2s 101us/sample - loss: 0.0277 - acc: 0.9949 - val_loss: 0.4671 - val_acc: 0.8701\n",
            "Epoch 14/20\n",
            "15000/15000 [==============================] - 2s 101us/sample - loss: 0.0231 - acc: 0.9957 - val_loss: 0.5054 - val_acc: 0.8684\n",
            "Epoch 15/20\n",
            "15000/15000 [==============================] - 1s 99us/sample - loss: 0.0178 - acc: 0.9974 - val_loss: 0.5357 - val_acc: 0.8702\n",
            "Epoch 16/20\n",
            "15000/15000 [==============================] - 1s 99us/sample - loss: 0.0175 - acc: 0.9963 - val_loss: 0.5647 - val_acc: 0.8697\n",
            "Epoch 17/20\n",
            "15000/15000 [==============================] - 1s 100us/sample - loss: 0.0084 - acc: 0.9997 - val_loss: 0.6007 - val_acc: 0.8673\n",
            "Epoch 18/20\n",
            "15000/15000 [==============================] - 1s 99us/sample - loss: 0.0125 - acc: 0.9979 - val_loss: 0.6373 - val_acc: 0.8667\n",
            "Epoch 19/20\n",
            "15000/15000 [==============================] - 1s 98us/sample - loss: 0.0052 - acc: 0.9997 - val_loss: 0.7544 - val_acc: 0.8538\n",
            "Epoch 20/20\n",
            "15000/15000 [==============================] - 2s 102us/sample - loss: 0.0051 - acc: 0.9997 - val_loss: 0.7567 - val_acc: 0.8566\n"
          ],
          "name": "stdout"
        }
      ]
    },
    {
      "cell_type": "code",
      "metadata": {
        "id": "ZJYVUDYssrcw",
        "colab_type": "code",
        "colab": {
          "base_uri": "https://localhost:8080/",
          "height": 34
        },
        "outputId": "0136a1db-1bfa-4bd9-fd2c-c13a706b1f28"
      },
      "source": [
        "history_dict = history.history\n",
        "history_dict.keys()"
      ],
      "execution_count": 21,
      "outputs": [
        {
          "output_type": "execute_result",
          "data": {
            "text/plain": [
              "dict_keys(['loss', 'acc', 'val_loss', 'val_acc'])"
            ]
          },
          "metadata": {
            "tags": []
          },
          "execution_count": 21
        }
      ]
    },
    {
      "cell_type": "markdown",
      "metadata": {
        "id": "_6rxO0VnuMFS",
        "colab_type": "text"
      },
      "source": [
        "## Plotting the training and validation loss"
      ]
    },
    {
      "cell_type": "code",
      "metadata": {
        "id": "9BvhysYMttcR",
        "colab_type": "code",
        "colab": {
          "base_uri": "https://localhost:8080/",
          "height": 295
        },
        "outputId": "cd91501e-0ffb-42cf-beeb-b5747d91a1cb"
      },
      "source": [
        "import matplotlib.pyplot as plt\n",
        "\n",
        "loss_values = history_dict['loss']\n",
        "val_loss_values = history_dict['val_loss']\n",
        "epochs = range(1, len(history_dict['acc']) + 1)\n",
        "plt.plot(epochs, loss_values, 'bo', label = 'Training loss')\n",
        "plt.plot(epochs, val_loss_values, 'b', label = 'Validation loss')\n",
        "plt.legend()\n",
        "plt.title('Training and Validation loss')\n",
        "plt.xlabel('Epochs')\n",
        "plt.ylabel('Loss')\n",
        "plt.show()"
      ],
      "execution_count": 27,
      "outputs": [
        {
          "output_type": "display_data",
          "data": {
            "image/png": "[encoded data removed]",
            "text/plain": [
              "<Figure size 432x288 with 1 Axes>"
            ]
          },
          "metadata": {
            "tags": []
          }
        }
      ]
    },
    {
      "cell_type": "markdown",
      "metadata": {
        "id": "P0IlosDVw3Hm",
        "colab_type": "text"
      },
      "source": [
        "## Plotting the training and validation accuracy"
      ]
    },
    {
      "cell_type": "code",
      "metadata": {
        "id": "HkDSXV_avAkQ",
        "colab_type": "code",
        "colab": {
          "base_uri": "https://localhost:8080/",
          "height": 295
        },
        "outputId": "4a9954de-7c07-446c-9ffd-746dfd9ee51a"
      },
      "source": [
        "accuracy = history_dict['acc']\n",
        "val_accuracy = history_dict['val_acc']\n",
        "\n",
        "epochs = range(1, len(history_dict['acc']) + 1)\n",
        "plt.plot(epochs, accuracy, 'bo', label = 'Training accuracy')\n",
        "plt.plot(epochs, val_accuracy, 'b', label = 'Validation accuracy')\n",
        "plt.title('Training and Validation accuracy')\n",
        "plt.legend()\n",
        "plt.xlabel('Epochs')\n",
        "plt.ylabel('Accuracy')\n",
        "plt.show()"
      ],
      "execution_count": 29,
      "outputs": [
        {
          "output_type": "display_data",
          "data": {
            "image/png": "[encoded data removed]",
            "text/plain": [
              "<Figure size 432x288 with 1 Axes>"
            ]
          },
          "metadata": {
            "tags": []
          }
        }
      ]
    },
    {
      "cell_type": "code",
      "metadata": {
        "id": "4RAVKZk5x5U3",
        "colab_type": "code",
        "colab": {}
      },
      "source": [
        ""
      ],
      "execution_count": 0,
      "outputs": []
    }
  ]
}