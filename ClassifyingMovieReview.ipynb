{
  "nbformat": 4,
  "nbformat_minor": 0,
  "metadata": {
    "colab": {
      "name": "ClassifyingMovieReview.ipynb",
      "provenance": [],
      "collapsed_sections": [],
      "authorship_tag": "ABX9TyN9B8NXHabMiYmFYS1ae7CC",
      "include_colab_link": true
    },
    "kernelspec": {
      "name": "python3",
      "display_name": "Python 3"
    }
  },
  "cells": [
    {
      "cell_type": "markdown",
      "metadata": {
        "id": "view-in-github",
        "colab_type": "text"
      },
      "source": [
        "<a href=\"https://colab.research.google.com/github/Kehindeajayi01/Deep-Learning-with-IMDB-review/blob/master/ClassifyingMovieReview.ipynb\" target=\"_parent\"><img src=\"https://colab.research.google.com/assets/colab-badge.svg\" alt=\"Open In Colab\"/></a>"
      ]
    },
    {
      "cell_type": "markdown",
      "metadata": {
        "id": "ekv28bCk7ng8",
        "colab_type": "text"
      },
      "source": [
        "## Obtain the IMDB Review data"
      ]
    },
    {
      "cell_type": "code",
      "metadata": {
        "id": "FmNc4CbX5Rpk",
        "colab_type": "code",
        "outputId": "f19c8274-a7e7-441a-e6c0-9058dada120e",
        "colab": {
          "base_uri": "https://localhost:8080/",
          "height": 116
        }
      },
      "source": [
        "from tensorflow.keras.datasets import imdb\n",
        "(train_data, train_labels), (test_data, test_labels) = imdb.load_data(num_words = 10000)\n",
        "train_data[0][:10]"
      ],
      "execution_count": 1,
      "outputs": [
        {
          "output_type": "display_data",
          "data": {
            "text/html": [
              "<p style=\"color: red;\">\n",
              "The default version of TensorFlow in Colab will soon switch to TensorFlow 2.x.<br>\n",
              "We recommend you <a href=\"https://www.tensorflow.org/guide/migrate\" target=\"_blank\">upgrade</a> now \n",
              "or ensure your notebook will continue to use TensorFlow 1.x via the <code>%tensorflow_version 1.x</code> magic:\n",
              "<a href=\"https://colab.research.google.com/notebooks/tensorflow_version.ipynb\" target=\"_blank\">more info</a>.</p>\n"
            ],
            "text/plain": [
              "<IPython.core.display.HTML object>"
            ]
          },
          "metadata": {
            "tags": []
          }
        },
        {
          "output_type": "stream",
          "text": [
            "Downloading data from https://storage.googleapis.com/tensorflow/tf-keras-datasets/imdb.npz\n",
            "17465344/17464789 [==============================] - 0s 0us/step\n"
          ],
          "name": "stdout"
        },
        {
          "output_type": "execute_result",
          "data": {
            "text/plain": [
              "[1, 14, 22, 16, 43, 530, 973, 1622, 1385, 65]"
            ]
          },
          "metadata": {
            "tags": []
          },
          "execution_count": 1
        }
      ]
    },
    {
      "cell_type": "markdown",
      "metadata": {
        "id": "EtEl8vxu70y8",
        "colab_type": "text"
      },
      "source": [
        "## Explore the data"
      ]
    },
    {
      "cell_type": "code",
      "metadata": {
        "id": "5axDwCe27xUS",
        "colab_type": "code",
        "outputId": "ff8966fa-ad0b-4ef0-94aa-739336ed42e6",
        "colab": {
          "base_uri": "https://localhost:8080/",
          "height": 52
        }
      },
      "source": [
        "print(\"Shape of the training data: {}\".format(train_data.shape))\n",
        "print(\"Shape of the testing data: {}\".format(test_data.shape))\n"
      ],
      "execution_count": 0,
      "outputs": [
        {
          "output_type": "stream",
          "text": [
            "Shape of the training data: (25000,)\n",
            "Shape of the testing data: (25000,)\n"
          ],
          "name": "stdout"
        }
      ]
    },
    {
      "cell_type": "markdown",
      "metadata": {
        "id": "qfl5ql758sAv",
        "colab_type": "text"
      },
      "source": [
        "## Description of the data\n",
        "* The train_data and test_data is a series of reviews; each review is a list of word indices. train_labels and test_labels are list of 0s and 1s where 0 stands for negative and 1 stands for positive"
      ]
    },
    {
      "cell_type": "code",
      "metadata": {
        "id": "5-LbA1KM8GyW",
        "colab_type": "code",
        "outputId": "f3fee6f4-2891-49d7-bd75-91363a65e0bb",
        "colab": {
          "base_uri": "https://localhost:8080/",
          "height": 52
        }
      },
      "source": [
        "print(\"First review in training data:{}\".format(train_data[0][:10]))\n",
        "print(train_labels[:10])"
      ],
      "execution_count": 2,
      "outputs": [
        {
          "output_type": "stream",
          "text": [
            "First review in training data:[1, 14, 22, 16, 43, 530, 973, 1622, 1385, 65]\n",
            "[1 0 0 1 0 0 1 0 1 0]\n"
          ],
          "name": "stdout"
        }
      ]
    },
    {
      "cell_type": "markdown",
      "metadata": {
        "id": "_QtRDFiQ_9Ad",
        "colab_type": "text"
      },
      "source": [
        "## Decoding the first review from integers to words"
      ]
    },
    {
      "cell_type": "code",
      "metadata": {
        "id": "Pt-OjU6h9iOn",
        "colab_type": "code",
        "outputId": "344c47a8-781f-42c8-d200-62d00de2b8c1",
        "colab": {
          "base_uri": "https://localhost:8080/",
          "height": 90
        }
      },
      "source": [
        "word_index = imdb.get_word_index()\n",
        "reverse_word_index = dict(\n",
        "    [(value, key) for (key, value) in word_index.items()])\n",
        "decode_review = ' '.join(\n",
        "    [reverse_word_index.get(i-3, '?') for i in train_data[0]])\n",
        "decode_review"
      ],
      "execution_count": 3,
      "outputs": [
        {
          "output_type": "stream",
          "text": [
            "Downloading data from https://storage.googleapis.com/tensorflow/tf-keras-datasets/imdb_word_index.json\n",
            "1646592/1641221 [==============================] - 0s 0us/step\n"
          ],
          "name": "stdout"
        },
        {
          "output_type": "execute_result",
          "data": {
            "text/plain": [
              "\"? this film was just brilliant casting location scenery story direction everyone's really suited the part they played and you could just imagine being there robert ? is an amazing actor and now the same being director ? father came from the same scottish island as myself so i loved the fact there was a real connection with this film the witty remarks throughout the film were great it was just brilliant so much that i bought the film as soon as it was released for ? and would recommend it to everyone to watch and the fly fishing was amazing really cried at the end it was so sad and you know what they say if you cry at a film it must have been good and this definitely was also ? to the two little boy's that played the ? of norman and paul they were just brilliant children are often left out of the ? list i think because the stars that play them all grown up are such a big profile for the whole film but these children are amazing and should be praised for what they have done don't you think the whole story was so lovely because it was true and was someone's life after all that was shared with us all\""
            ]
          },
          "metadata": {
            "tags": []
          },
          "execution_count": 3
        }
      ]
    },
    {
      "cell_type": "markdown",
      "metadata": {
        "id": "fOECRPS0AOz0",
        "colab_type": "text"
      },
      "source": [
        "## Preparing the data\n",
        "* You can't feed list of integers into a neural network. You have to turn your list into tensors. One way to do that is to encode the integer sequences into a binary matrix"
      ]
    },
    {
      "cell_type": "code",
      "metadata": {
        "id": "cpLem11H_cMK",
        "colab_type": "code",
        "colab": {}
      },
      "source": [
        "import numpy as np\n",
        "\n",
        "def vectorize_sequences(sequences, dimension = 10000):\n",
        "  results = np.zeros((len(sequences), dimension))\n",
        "  for i, sequence in enumerate(sequences):\n",
        "    results[i, sequence] = 1\n",
        "  return results\n",
        "\n",
        "x_train = vectorize_sequences(train_data)\n",
        "x_test = vectorize_sequences(test_data)"
      ],
      "execution_count": 0,
      "outputs": []
    },
    {
      "cell_type": "markdown",
      "metadata": {
        "id": "237QKjwJAMs1",
        "colab_type": "text"
      },
      "source": [
        ""
      ]
    },
    {
      "cell_type": "code",
      "metadata": {
        "id": "LuowKSGRJ3CW",
        "colab_type": "code",
        "outputId": "18519105-d078-46ed-9544-37241615fb82",
        "colab": {
          "base_uri": "https://localhost:8080/",
          "height": 70
        }
      },
      "source": [
        "x_train[0], train_labels, x_train.shape"
      ],
      "execution_count": 0,
      "outputs": [
        {
          "output_type": "execute_result",
          "data": {
            "text/plain": [
              "(array([0., 1., 1., ..., 0., 0., 0.]),\n",
              " array([1, 0, 0, ..., 0, 1, 0]),\n",
              " (25000, 10000))"
            ]
          },
          "metadata": {
            "tags": []
          },
          "execution_count": 11
        }
      ]
    },
    {
      "cell_type": "markdown",
      "metadata": {
        "id": "Jt47kVYNLEnV",
        "colab_type": "text"
      },
      "source": [
        "## Vectorize the labels"
      ]
    },
    {
      "cell_type": "code",
      "metadata": {
        "id": "dydy5swNJ6Nd",
        "colab_type": "code",
        "colab": {}
      },
      "source": [
        "y_train = np.asarray(train_labels).astype('float32')\n",
        "y_test = np.asarray(test_labels).astype('float32')"
      ],
      "execution_count": 0,
      "outputs": []
    },
    {
      "cell_type": "code",
      "metadata": {
        "id": "ZUnalukDLdWg",
        "colab_type": "code",
        "outputId": "6f149ea0-2645-45ce-f4e8-5b68b53f0a7b",
        "colab": {
          "base_uri": "https://localhost:8080/",
          "height": 34
        }
      },
      "source": [
        "y_train"
      ],
      "execution_count": 0,
      "outputs": [
        {
          "output_type": "execute_result",
          "data": {
            "text/plain": [
              "array([1., 0., 0., ..., 0., 1., 0.], dtype=float32)"
            ]
          },
          "metadata": {
            "tags": []
          },
          "execution_count": 8
        }
      ]
    },
    {
      "cell_type": "code",
      "metadata": {
        "id": "JBqflXNoeITy",
        "colab_type": "code",
        "colab": {}
      },
      "source": [
        ""
      ],
      "execution_count": 0,
      "outputs": []
    },
    {
      "cell_type": "markdown",
      "metadata": {
        "id": "-1ppM729h5gi",
        "colab_type": "text"
      },
      "source": [
        "## Build your architecture\n",
        "* This is where we specify the layers of the network.\n",
        "* The number of hidden units within each layer and the activation function"
      ]
    },
    {
      "cell_type": "code",
      "metadata": {
        "id": "Mxj2MlRXiQyg",
        "colab_type": "code",
        "colab": {}
      },
      "source": [
        "from tensorflow.keras.models import Sequential\n",
        "from tensorflow.keras.layers import Dense\n",
        "\n",
        "model = Sequential()\n",
        "model.add(Dense(16, activation = 'relu', input_shape = (10000,)))\n",
        "model.add(Dense(16, activation = 'relu'))\n",
        "model.add(Dense(1, activation = 'sigmoid'))"
      ],
      "execution_count": 0,
      "outputs": []
    },
    {
      "cell_type": "markdown",
      "metadata": {
        "id": "flef4XGEls-r",
        "colab_type": "text"
      },
      "source": [
        "## Compiling the model\n",
        "* This is where we specify the optimizer (how the network will update the weight)\n",
        "* The loss function (a measure of the performance of the network)\n",
        "* An accuracy (metric to monitor)"
      ]
    },
    {
      "cell_type": "code",
      "metadata": {
        "id": "FMBDQOqejo92",
        "colab_type": "code",
        "colab": {}
      },
      "source": [
        "model.compile(optimizer = 'rmsprop',\n",
        "              loss = 'binary_crossentropy',\n",
        "              metrics = ['accuracy'])"
      ],
      "execution_count": 0,
      "outputs": []
    },
    {
      "cell_type": "markdown",
      "metadata": {
        "id": "ex4ogI_GpeGL",
        "colab_type": "text"
      },
      "source": [
        "## Validating your approach\n",
        "* We will set apart 10000 samples from the training data to validate our model so that we can have an idea how our model will perform on new unseen data."
      ]
    },
    {
      "cell_type": "code",
      "metadata": {
        "id": "rJL1cx7qmmXH",
        "colab_type": "code",
        "colab": {}
      },
      "source": [
        "x_val = x_train[:10000]\n",
        "partial_x_train = x_train[10000:]\n",
        "\n",
        "y_val = y_train[:10000]\n",
        "partial_y_train = y_train[10000:]"
      ],
      "execution_count": 0,
      "outputs": []
    },
    {
      "cell_type": "markdown",
      "metadata": {
        "id": "1xexyWdSrKI6",
        "colab_type": "text"
      },
      "source": [
        "## Training the model\n",
        "* We fit the model on the partial training set and validate on the validation set.\n",
        "* We specify the epochs(the number of iteration on all training samples)\n",
        "* We also specify the batch_size (a subset of the training samples to train at a single instance)"
      ]
    },
    {
      "cell_type": "code",
      "metadata": {
        "id": "B_JIrEyvsXON",
        "colab_type": "code",
        "outputId": "58178b42-4b6f-4a7c-f775-d1a06e3600c6",
        "colab": {
          "base_uri": "https://localhost:8080/",
          "height": 386
        }
      },
      "source": [
        "history = model.fit(partial_x_train, partial_y_train, epochs = 10, batch_size = 512,\n",
        "          validation_data = (x_val, y_val))"
      ],
      "execution_count": 0,
      "outputs": [
        {
          "output_type": "stream",
          "text": [
            "Train on 15000 samples, validate on 10000 samples\n",
            "Epoch 1/10\n",
            "15000/15000 [==============================] - 2s 110us/sample - loss: 0.5263 - acc: 0.7835 - val_loss: 0.4082 - val_acc: 0.8549\n",
            "Epoch 2/10\n",
            "15000/15000 [==============================] - 1s 90us/sample - loss: 0.3201 - acc: 0.8993 - val_loss: 0.3169 - val_acc: 0.8810\n",
            "Epoch 3/10\n",
            "15000/15000 [==============================] - 1s 89us/sample - loss: 0.2339 - acc: 0.9233 - val_loss: 0.2807 - val_acc: 0.8892\n",
            "Epoch 4/10\n",
            "15000/15000 [==============================] - 1s 90us/sample - loss: 0.1854 - acc: 0.9392 - val_loss: 0.2777 - val_acc: 0.8881\n",
            "Epoch 5/10\n",
            "15000/15000 [==============================] - 1s 89us/sample - loss: 0.1493 - acc: 0.9516 - val_loss: 0.2867 - val_acc: 0.8879\n",
            "Epoch 6/10\n",
            "15000/15000 [==============================] - 1s 91us/sample - loss: 0.1250 - acc: 0.9605 - val_loss: 0.2880 - val_acc: 0.8867\n",
            "Epoch 7/10\n",
            "15000/15000 [==============================] - 1s 88us/sample - loss: 0.1048 - acc: 0.9680 - val_loss: 0.3062 - val_acc: 0.8822\n",
            "Epoch 8/10\n",
            "15000/15000 [==============================] - 1s 89us/sample - loss: 0.0855 - acc: 0.9762 - val_loss: 0.3233 - val_acc: 0.8803\n",
            "Epoch 9/10\n",
            "15000/15000 [==============================] - 1s 90us/sample - loss: 0.0705 - acc: 0.9815 - val_loss: 0.3483 - val_acc: 0.8820\n",
            "Epoch 10/10\n",
            "15000/15000 [==============================] - 1s 89us/sample - loss: 0.0596 - acc: 0.9848 - val_loss: 0.3757 - val_acc: 0.8769\n"
          ],
          "name": "stdout"
        }
      ]
    },
    {
      "cell_type": "code",
      "metadata": {
        "id": "ZJYVUDYssrcw",
        "colab_type": "code",
        "outputId": "ab226c61-56e7-481a-f0c9-5db34bceaa60",
        "colab": {
          "base_uri": "https://localhost:8080/",
          "height": 34
        }
      },
      "source": [
        "history_dict = history.history\n",
        "history_dict.keys()"
      ],
      "execution_count": 0,
      "outputs": [
        {
          "output_type": "execute_result",
          "data": {
            "text/plain": [
              "dict_keys(['loss', 'acc', 'val_loss', 'val_acc'])"
            ]
          },
          "metadata": {
            "tags": []
          },
          "execution_count": 14
        }
      ]
    },
    {
      "cell_type": "markdown",
      "metadata": {
        "id": "_6rxO0VnuMFS",
        "colab_type": "text"
      },
      "source": [
        "## Plotting the training and validation loss"
      ]
    },
    {
      "cell_type": "code",
      "metadata": {
        "id": "9BvhysYMttcR",
        "colab_type": "code",
        "outputId": "ad7559e9-3446-4e42-dd7c-a213c3587052",
        "colab": {
          "base_uri": "https://localhost:8080/",
          "height": 295
        }
      },
      "source": [
        "import matplotlib.pyplot as plt\n",
        "\n",
        "loss_values = history_dict['loss']\n",
        "val_loss_values = history_dict['val_loss']\n",
        "epochs = range(len(history_dict['acc']))\n",
        "plt.plot(epochs, loss_values, 'bo', label = 'Training loss')\n",
        "plt.plot(epochs, val_loss_values, 'b', label = 'Validation loss')\n",
        "plt.legend()\n",
        "plt.title('Training and Validation loss')\n",
        "plt.xlabel('Epochs')\n",
        "plt.ylabel('Loss')\n",
        "plt.show()"
      ],
      "execution_count": 0,
      "outputs": [
        {
          "output_type": "display_data",
          "data": {
            "image/png": "[encoded data removed]",
            "text/plain": [
              "<Figure size 432x288 with 1 Axes>"
            ]
          },
          "metadata": {
            "tags": []
          }
        }
      ]
    },
    {
      "cell_type": "markdown",
      "metadata": {
        "id": "P0IlosDVw3Hm",
        "colab_type": "text"
      },
      "source": [
        "## Plotting the training and validation accuracy"
      ]
    },
    {
      "cell_type": "code",
      "metadata": {
        "id": "HkDSXV_avAkQ",
        "colab_type": "code",
        "outputId": "64daac70-ae1a-42c0-f62c-8517d21b853f",
        "colab": {
          "base_uri": "https://localhost:8080/",
          "height": 295
        }
      },
      "source": [
        "accuracy = history_dict['acc']\n",
        "val_accuracy = history_dict['val_acc']\n",
        "\n",
        "epochs = range(len(history_dict['acc']))\n",
        "plt.plot(epochs, accuracy, 'bo', label = 'Training accuracy')\n",
        "plt.plot(epochs, val_accuracy, 'b', label = 'Validation accuracy')\n",
        "plt.title('Training and Validation accuracy')\n",
        "plt.legend()\n",
        "plt.xlabel('Epochs')\n",
        "plt.ylabel('Accuracy')\n",
        "plt.show()"
      ],
      "execution_count": 0,
      "outputs": [
        {
          "output_type": "display_data",
          "data": {
            "image/png": "[encoded data removed]",
            "text/plain": [
              "<Figure size 432x288 with 1 Axes>"
            ]
          },
          "metadata": {
            "tags": []
          }
        }
      ]
    },
    {
      "cell_type": "markdown",
      "metadata": {
        "id": "Tzr59OPwHbWk",
        "colab_type": "text"
      },
      "source": [
        "## Using Word Embedding\n",
        "- Word embedding tries to learn the weights of the embedding layer similarly to how you learn the weights of a neural network.\n",
        "- It maps the geometric distance between word vectors to the associated word such that word with different meaning are embedded at points far from each other while related words are close. In other words, the geometric relationship between word vectors tend to reflect the semantic relationship between the corresponding words.\n",
        "- It takes as input 2D tensor of integers (word index) and return a 3D float tensor which we can train a dense layer or an RNN on."
      ]
    },
    {
      "cell_type": "code",
      "metadata": {
        "id": "4RAVKZk5x5U3",
        "colab_type": "code",
        "outputId": "6ada4bad-fb9a-46ec-85f6-23438d7e2107",
        "colab": {
          "base_uri": "https://localhost:8080/",
          "height": 34
        }
      },
      "source": [
        "from tensorflow import keras\n",
        "from keras.datasets import imdb\n",
        "from keras.preprocessing.sequence import pad_sequences\n",
        "from keras.layers import Embedding"
      ],
      "execution_count": 9,
      "outputs": [
        {
          "output_type": "stream",
          "text": [
            "Using TensorFlow backend.\n"
          ],
          "name": "stderr"
        }
      ]
    },
    {
      "cell_type": "markdown",
      "metadata": {
        "id": "QOYQroXzIGTn",
        "colab_type": "text"
      },
      "source": [
        "## Loading the IMDB data for use with an embedding layer\n",
        "*  Embedding layer takes as input a 2D tensor of integers of shape (samples, sequence_length) and return a 3D floating-point tensor which can then be flatten to a 2D tensor to build a Dense layer on top for classification"
      ]
    },
    {
      "cell_type": "code",
      "metadata": {
        "id": "Y7lLeLIKH3ID",
        "colab_type": "code",
        "colab": {}
      },
      "source": [
        "max_features = 10000   # the top most frequent words\n",
        "maxlen = 500    # sequence length\n",
        "\n",
        "(x_train, y_train), (x_test, y_test) = imdb.load_data(num_words = max_features)\n",
        "\n",
        "x_train = pad_sequences(x_train, maxlen = maxlen)\n",
        "x_test = pad_sequences(x_test, maxlen = maxlen)"
      ],
      "execution_count": 0,
      "outputs": []
    },
    {
      "cell_type": "code",
      "metadata": {
        "id": "HpsX0PQDJ5Xc",
        "colab_type": "code",
        "outputId": "9138403f-fc8b-41cb-92d0-defcd1c38617",
        "colab": {
          "base_uri": "https://localhost:8080/",
          "height": 140
        }
      },
      "source": [
        "x_train[:10], x_train.shape"
      ],
      "execution_count": 0,
      "outputs": [
        {
          "output_type": "execute_result",
          "data": {
            "text/plain": [
              "(array([[   0,    0,    0, ...,   19,  178,   32],\n",
              "        [   0,    0,    0, ...,   16,  145,   95],\n",
              "        [   0,    0,    0, ...,    7,  129,  113],\n",
              "        ...,\n",
              "        [   4, 3231,  152, ...,   72,   33,   32],\n",
              "        [   0,    0,    0, ...,   28,  126,  110],\n",
              "        [   0,    0,    0, ...,    7,   43,   50]], dtype=int32), (25000, 500))"
            ]
          },
          "metadata": {
            "tags": []
          },
          "execution_count": 61
        }
      ]
    },
    {
      "cell_type": "markdown",
      "metadata": {
        "id": "SkKCVvK1JwKl",
        "colab_type": "text"
      },
      "source": [
        "## Using an Embedding an a classifier on IMDB\n",
        "* We want to learn 100 embedding dimensions"
      ]
    },
    {
      "cell_type": "code",
      "metadata": {
        "id": "1BfgPSkjJu3q",
        "colab_type": "code",
        "outputId": "647b3073-97e9-49d4-816b-3518d5684c4d",
        "colab": {
          "base_uri": "https://localhost:8080/",
          "height": 298
        }
      },
      "source": [
        "from keras.models import Sequential\n",
        "from keras.layers import Dense, Flatten\n",
        "\n",
        "model = Sequential([\n",
        "                    Embedding(10000, 100, input_length=maxlen),      # the 100 is the embedding dimension i.e the output dimension\n",
        "                    Flatten(),\n",
        "                    Dense(32, activation = 'relu'),\n",
        "                    Dense(1, activation = 'sigmoid')\n",
        "])\n",
        "model.summary()"
      ],
      "execution_count": 12,
      "outputs": [
        {
          "output_type": "stream",
          "text": [
            "Model: \"sequential_2\"\n",
            "_________________________________________________________________\n",
            "Layer (type)                 Output Shape              Param #   \n",
            "=================================================================\n",
            "embedding_2 (Embedding)      (None, 500, 100)          1000000   \n",
            "_________________________________________________________________\n",
            "flatten_2 (Flatten)          (None, 50000)             0         \n",
            "_________________________________________________________________\n",
            "dense_3 (Dense)              (None, 32)                1600032   \n",
            "_________________________________________________________________\n",
            "dense_4 (Dense)              (None, 1)                 33        \n",
            "=================================================================\n",
            "Total params: 2,600,065\n",
            "Trainable params: 2,600,065\n",
            "Non-trainable params: 0\n",
            "_________________________________________________________________\n"
          ],
          "name": "stdout"
        }
      ]
    },
    {
      "cell_type": "markdown",
      "metadata": {
        "id": "WwKUaOYELU8X",
        "colab_type": "text"
      },
      "source": [
        "## Compile the model and fit"
      ]
    },
    {
      "cell_type": "code",
      "metadata": {
        "id": "NEsqTYHULFxP",
        "colab_type": "code",
        "outputId": "43370c22-e4fb-42ef-a06b-7c592ffa9bb2",
        "colab": {
          "base_uri": "https://localhost:8080/",
          "height": 210
        }
      },
      "source": [
        "model.compile(optimizer = 'rmsprop',\n",
        "              loss = 'binary_crossentropy',\n",
        "              metrics = ['accuracy'])\n",
        "history = model.fit(x_train, y_train, batch_size = 512, epochs = 5, validation_split = 0.2)"
      ],
      "execution_count": 0,
      "outputs": [
        {
          "output_type": "stream",
          "text": [
            "Train on 20000 samples, validate on 5000 samples\n",
            "Epoch 1/5\n",
            "20000/20000 [==============================] - 11s 525us/step - loss: 0.7561 - acc: 0.5913 - val_loss: 0.5775 - val_acc: 0.7004\n",
            "Epoch 2/5\n",
            "20000/20000 [==============================] - 10s 476us/step - loss: 0.3978 - acc: 0.8298 - val_loss: 0.3278 - val_acc: 0.8690\n",
            "Epoch 3/5\n",
            "20000/20000 [==============================] - 10s 476us/step - loss: 0.2100 - acc: 0.9231 - val_loss: 0.3082 - val_acc: 0.8708\n",
            "Epoch 4/5\n",
            "20000/20000 [==============================] - 9s 474us/step - loss: 0.1171 - acc: 0.9604 - val_loss: 0.3244 - val_acc: 0.8708\n",
            "Epoch 5/5\n",
            "20000/20000 [==============================] - 9s 471us/step - loss: 0.0600 - acc: 0.9829 - val_loss: 0.3498 - val_acc: 0.8672\n"
          ],
          "name": "stdout"
        }
      ]
    },
    {
      "cell_type": "markdown",
      "metadata": {
        "id": "JB64AfGrLfeR",
        "colab_type": "text"
      },
      "source": [
        "## Using a Recurrent Neural Network\n",
        "- RNN takes as input sequence of vectors of shape (batch_size, timesteps, input_features).\n",
        "- It loops through sequence elements while maintaining the state containing the information it has seen so far.\n",
        "- It starts by initializing the state as zero-vectors. Then use the current state t and input at t to obtain the output at t. Finally, it sets the next state as the previous output.\n",
        "- RNNs suffer from the vanishing gradient problem becuase of repeated application of gradient of the weights. This often arises when the gradient of the largest weights is less than 1."
      ]
    },
    {
      "cell_type": "code",
      "metadata": {
        "id": "nA5Ylm1jNxO6",
        "colab_type": "code",
        "outputId": "4d8fb707-ba90-43ea-f0e5-519a397b4c18",
        "colab": {
          "base_uri": "https://localhost:8080/",
          "height": 334
        }
      },
      "source": [
        "from keras.layers import SimpleRNN\n",
        "\n",
        "model = Sequential([\n",
        "                    Embedding(10000, 64),\n",
        "                    SimpleRNN(64, return_sequences = True),\n",
        "                    SimpleRNN(64, return_sequences = True),\n",
        "                    SimpleRNN(32),\n",
        "                    Dense(1, activation = 'sigmoid')\n",
        "])\n",
        "model.summary()"
      ],
      "execution_count": 13,
      "outputs": [
        {
          "output_type": "stream",
          "text": [
            "Model: \"sequential_3\"\n",
            "_________________________________________________________________\n",
            "Layer (type)                 Output Shape              Param #   \n",
            "=================================================================\n",
            "embedding_3 (Embedding)      (None, None, 64)          640000    \n",
            "_________________________________________________________________\n",
            "simple_rnn_1 (SimpleRNN)     (None, None, 64)          8256      \n",
            "_________________________________________________________________\n",
            "simple_rnn_2 (SimpleRNN)     (None, None, 64)          8256      \n",
            "_________________________________________________________________\n",
            "simple_rnn_3 (SimpleRNN)     (None, 32)                3104      \n",
            "_________________________________________________________________\n",
            "dense_5 (Dense)              (None, 1)                 33        \n",
            "=================================================================\n",
            "Total params: 659,649\n",
            "Trainable params: 659,649\n",
            "Non-trainable params: 0\n",
            "_________________________________________________________________\n"
          ],
          "name": "stdout"
        }
      ]
    },
    {
      "cell_type": "markdown",
      "metadata": {
        "id": "ictQFlcZQKFJ",
        "colab_type": "text"
      },
      "source": [
        "## Compile the network"
      ]
    },
    {
      "cell_type": "code",
      "metadata": {
        "id": "S4cePwd6QvQY",
        "colab_type": "code",
        "colab": {}
      },
      "source": [
        "model.compile(optimizer = 'rmsprop',\n",
        "              loss = 'binary_crossentropy',\n",
        "              metrics = ['accuracy'])"
      ],
      "execution_count": 0,
      "outputs": []
    },
    {
      "cell_type": "markdown",
      "metadata": {
        "id": "5ddGyhUKRAgv",
        "colab_type": "text"
      },
      "source": [
        "## Fit the model"
      ]
    },
    {
      "cell_type": "code",
      "metadata": {
        "id": "Olq4apl4Q_84",
        "colab_type": "code",
        "outputId": "b1f56b6a-2410-46ef-a3d8-b6d2302d3c62",
        "colab": {
          "base_uri": "https://localhost:8080/",
          "height": 210
        }
      },
      "source": [
        "history = model.fit(x_train, y_train, batch_size = 128, epochs = 5, validation_split=0.2)"
      ],
      "execution_count": 0,
      "outputs": [
        {
          "output_type": "stream",
          "text": [
            "Train on 20000 samples, validate on 5000 samples\n",
            "Epoch 1/5\n",
            "20000/20000 [==============================] - 84s 4ms/step - loss: 0.6897 - acc: 0.5331 - val_loss: 0.6495 - val_acc: 0.6048\n",
            "Epoch 2/5\n",
            "20000/20000 [==============================] - 82s 4ms/step - loss: 0.4583 - acc: 0.7840 - val_loss: 0.4575 - val_acc: 0.7956\n",
            "Epoch 3/5\n",
            "20000/20000 [==============================] - 82s 4ms/step - loss: 0.2484 - acc: 0.9005 - val_loss: 0.5368 - val_acc: 0.7724\n",
            "Epoch 4/5\n",
            "20000/20000 [==============================] - 82s 4ms/step - loss: 0.1121 - acc: 0.9600 - val_loss: 0.9535 - val_acc: 0.6642\n",
            "Epoch 5/5\n",
            "20000/20000 [==============================] - 82s 4ms/step - loss: 0.0480 - acc: 0.9840 - val_loss: 0.9230 - val_acc: 0.7482\n"
          ],
          "name": "stdout"
        }
      ]
    },
    {
      "cell_type": "markdown",
      "metadata": {
        "id": "OiV6qim5Rq2w",
        "colab_type": "text"
      },
      "source": [
        "## Plotting the Accuracy against the epochs \n",
        "- This is to see how the model overfits and which epoch's value it starts overfitting"
      ]
    },
    {
      "cell_type": "code",
      "metadata": {
        "id": "MEWHAe1QSGJH",
        "colab_type": "code",
        "outputId": "53f7dc9c-1999-4df2-d638-7bf5cf527142",
        "colab": {
          "base_uri": "https://localhost:8080/",
          "height": 295
        }
      },
      "source": [
        "acc_values = history.history['acc']\n",
        "val_acc_values = history.history['val_acc']\n",
        "\n",
        "Epochs = range(len(acc_values))\n",
        "\n",
        "plt.plot(Epochs, acc_values, 'bo', label = 'Training accuracy')\n",
        "plt.plot(Epochs, val_acc_values, 'b', label = 'Validation accuracy')\n",
        "plt.legend(loc = 'best')\n",
        "plt.title(\"Training and Validation Accuracy\")\n",
        "plt.xlabel('Number of epochs')\n",
        "plt.ylabel('Accuracy')\n",
        "plt.show()"
      ],
      "execution_count": 0,
      "outputs": [
        {
          "output_type": "display_data",
          "data": {
            "image/png": "[encoded data removed]",
            "text/plain": [
              "<Figure size 432x288 with 1 Axes>"
            ]
          },
          "metadata": {
            "tags": []
          }
        }
      ]
    },
    {
      "cell_type": "markdown",
      "metadata": {
        "id": "39f_QI5jmDbf",
        "colab_type": "text"
      },
      "source": [
        "## Using the Long Short-Term Memory\n",
        "- This behaves like an RNN, but also include a carry dataflow to carry information across multiple time steps, which helps combat the vanishing gradient problem."
      ]
    },
    {
      "cell_type": "code",
      "metadata": {
        "id": "Ou70AebWnIIn",
        "colab_type": "code",
        "colab": {}
      },
      "source": [
        "from keras.layers import LSTM, Embedding\n",
        "\n",
        "model = Sequential([\n",
        "                    Embedding(10000, 64),\n",
        "                    LSTM(64),\n",
        "                    Dense(1, activation = 'sigmoid')\n",
        "\n",
        "])\n",
        "\n",
        "model.compile(optimizer = 'rmsprop',\n",
        "              loss = 'binary_crossentropy',\n",
        "              metrics = ['accuracy'])\n"
      ],
      "execution_count": 0,
      "outputs": []
    },
    {
      "cell_type": "markdown",
      "metadata": {
        "id": "KHynFmCZLbrj",
        "colab_type": "text"
      },
      "source": [
        ""
      ]
    },
    {
      "cell_type": "markdown",
      "metadata": {
        "id": "76Tj31G6oIOt",
        "colab_type": "text"
      },
      "source": [
        "## Fit the model"
      ]
    },
    {
      "cell_type": "code",
      "metadata": {
        "id": "vI6fYKiEoJ4l",
        "colab_type": "code",
        "colab": {
          "base_uri": "https://localhost:8080/",
          "height": 316
        },
        "outputId": "fae33607-a728-4a1c-b0b7-109a2cfb9f7f"
      },
      "source": [
        "history = model.fit(x_train, y_train, batch_size = 128, epochs = 8, validation_split=0.2)"
      ],
      "execution_count": 19,
      "outputs": [
        {
          "output_type": "stream",
          "text": [
            "Train on 20000 samples, validate on 5000 samples\n",
            "Epoch 1/8\n",
            "20000/20000 [==============================] - 135s 7ms/step - loss: 0.1030 - acc: 0.9640 - val_loss: 0.5610 - val_acc: 0.8694\n",
            "Epoch 2/8\n",
            "20000/20000 [==============================] - 135s 7ms/step - loss: 0.0953 - acc: 0.9674 - val_loss: 0.3985 - val_acc: 0.8724\n",
            "Epoch 3/8\n",
            "20000/20000 [==============================] - 136s 7ms/step - loss: 0.0899 - acc: 0.9689 - val_loss: 0.4140 - val_acc: 0.8736\n",
            "Epoch 4/8\n",
            "20000/20000 [==============================] - 136s 7ms/step - loss: 0.0793 - acc: 0.9725 - val_loss: 0.4022 - val_acc: 0.8736\n",
            "Epoch 5/8\n",
            "20000/20000 [==============================] - 134s 7ms/step - loss: 0.0685 - acc: 0.9765 - val_loss: 0.4531 - val_acc: 0.8752\n",
            "Epoch 6/8\n",
            "20000/20000 [==============================] - 134s 7ms/step - loss: 0.0638 - acc: 0.9787 - val_loss: 0.4946 - val_acc: 0.8752\n",
            "Epoch 7/8\n",
            "20000/20000 [==============================] - 134s 7ms/step - loss: 0.0575 - acc: 0.9814 - val_loss: 0.5588 - val_acc: 0.8756\n",
            "Epoch 8/8\n",
            "20000/20000 [==============================] - 134s 7ms/step - loss: 0.0544 - acc: 0.9829 - val_loss: 0.4323 - val_acc: 0.8634\n"
          ],
          "name": "stdout"
        }
      ]
    },
    {
      "cell_type": "code",
      "metadata": {
        "id": "p1FHGuAFoguw",
        "colab_type": "code",
        "colab": {}
      },
      "source": [
        ""
      ],
      "execution_count": 0,
      "outputs": []
    }
  ]
}